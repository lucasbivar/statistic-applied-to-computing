{
 "cells": [
  {
   "cell_type": "code",
   "execution_count": 1,
   "metadata": {},
   "outputs": [],
   "source": [
    "import pandas as pd\n",
    "import numpy as np\n",
    "import matplotlib.pyplot as plt\n",
    "import seaborn as sns\n",
    "from scipy import stats"
   ]
  },
  {
   "cell_type": "markdown",
   "metadata": {},
   "source": [
    "Neste notebook, iremos demonstrar algumas medidas da estatística descritiva com os dados do Airbnb referentes à cidade do Rio de Janeiro. Antes de começar a discutir as medidas iremos conhecer o conjunto de dados e fazer um breve tratamento."
   ]
  },
  {
   "cell_type": "code",
   "execution_count": 2,
   "metadata": {},
   "outputs": [],
   "source": [
    "df = pd.read_csv(\"http://data.insideairbnb.com/brazil/rj/rio-de-janeiro/2021-02-22/visualisations/listings.csv\")"
   ]
  },
  {
   "cell_type": "markdown",
   "metadata": {},
   "source": [
    "#### Dicionário das variáveis\n",
    "   - id - número de id gerado para identificar o imóvel\n",
    "   - name - nome da propriedade anunciada\n",
    "   - host_id - número de id do proprietário (anfitrião) da propriedade\n",
    "   - host_name - Nome do anfitrião\n",
    "   - neighbourhood_group - esta coluna não contém nenhum valor válido\n",
    "   - neighbourhood - nome do bairro\n",
    "   - latitude - coordenada da latitude da propriedade\n",
    "   - longitude - coordenada da longitude da propriedade\n",
    "   - room_type - informa o tipo de quarto que é oferecido\n",
    "   - price - preço para alugar o imóvel\n",
    "   - minimum_nights - quantidade mínima de noites para reservar\n",
    "   - number_of_reviews - número de reviews que a propriedade possui\n",
    "   - last_review - data do último review\n",
    "   - reviews_per_month - quantidade de reviews por mês\n",
    "   - calculated_host_listings_count - quantidade de imóveis do mesmo anfitrião\n",
    "   - availability_365 - número de dias de disponibilidade dentro de 365 dias"
   ]
  },
  {
   "cell_type": "code",
   "execution_count": 3,
   "metadata": {},
   "outputs": [
    {
     "data": {
      "text/html": [
       "<div>\n",
       "<style scoped>\n",
       "    .dataframe tbody tr th:only-of-type {\n",
       "        vertical-align: middle;\n",
       "    }\n",
       "\n",
       "    .dataframe tbody tr th {\n",
       "        vertical-align: top;\n",
       "    }\n",
       "\n",
       "    .dataframe thead th {\n",
       "        text-align: right;\n",
       "    }\n",
       "</style>\n",
       "<table border=\"1\" class=\"dataframe\">\n",
       "  <thead>\n",
       "    <tr style=\"text-align: right;\">\n",
       "      <th></th>\n",
       "      <th>id</th>\n",
       "      <th>name</th>\n",
       "      <th>host_id</th>\n",
       "      <th>host_name</th>\n",
       "      <th>neighbourhood_group</th>\n",
       "      <th>neighbourhood</th>\n",
       "      <th>latitude</th>\n",
       "      <th>longitude</th>\n",
       "      <th>room_type</th>\n",
       "      <th>price</th>\n",
       "      <th>minimum_nights</th>\n",
       "      <th>number_of_reviews</th>\n",
       "      <th>last_review</th>\n",
       "      <th>reviews_per_month</th>\n",
       "      <th>calculated_host_listings_count</th>\n",
       "      <th>availability_365</th>\n",
       "    </tr>\n",
       "  </thead>\n",
       "  <tbody>\n",
       "    <tr>\n",
       "      <th>0</th>\n",
       "      <td>17878</td>\n",
       "      <td>Very Nice 2Br in Copacabana w. balcony, fast WiFi</td>\n",
       "      <td>68997</td>\n",
       "      <td>Matthias</td>\n",
       "      <td>NaN</td>\n",
       "      <td>Copacabana</td>\n",
       "      <td>-22.96592</td>\n",
       "      <td>-43.17896</td>\n",
       "      <td>Entire home/apt</td>\n",
       "      <td>221</td>\n",
       "      <td>5</td>\n",
       "      <td>260</td>\n",
       "      <td>2021-02-08</td>\n",
       "      <td>2.01</td>\n",
       "      <td>1</td>\n",
       "      <td>304</td>\n",
       "    </tr>\n",
       "    <tr>\n",
       "      <th>1</th>\n",
       "      <td>24480</td>\n",
       "      <td>Nice and cozy near Ipanema Beach</td>\n",
       "      <td>99249</td>\n",
       "      <td>Goya</td>\n",
       "      <td>NaN</td>\n",
       "      <td>Ipanema</td>\n",
       "      <td>-22.98570</td>\n",
       "      <td>-43.20193</td>\n",
       "      <td>Entire home/apt</td>\n",
       "      <td>307</td>\n",
       "      <td>3</td>\n",
       "      <td>85</td>\n",
       "      <td>2018-02-14</td>\n",
       "      <td>0.67</td>\n",
       "      <td>1</td>\n",
       "      <td>10</td>\n",
       "    </tr>\n",
       "    <tr>\n",
       "      <th>2</th>\n",
       "      <td>25026</td>\n",
       "      <td>Beautiful Modern Decorated Studio in Copa</td>\n",
       "      <td>3746246</td>\n",
       "      <td>Ghizlane</td>\n",
       "      <td>NaN</td>\n",
       "      <td>Copacabana</td>\n",
       "      <td>-22.97712</td>\n",
       "      <td>-43.19045</td>\n",
       "      <td>Entire home/apt</td>\n",
       "      <td>160</td>\n",
       "      <td>7</td>\n",
       "      <td>238</td>\n",
       "      <td>2020-02-15</td>\n",
       "      <td>1.82</td>\n",
       "      <td>11</td>\n",
       "      <td>328</td>\n",
       "    </tr>\n",
       "    <tr>\n",
       "      <th>3</th>\n",
       "      <td>35636</td>\n",
       "      <td>Cosy flat close to Ipanema beach</td>\n",
       "      <td>153232</td>\n",
       "      <td>Patricia</td>\n",
       "      <td>NaN</td>\n",
       "      <td>Ipanema</td>\n",
       "      <td>-22.98816</td>\n",
       "      <td>-43.19359</td>\n",
       "      <td>Entire home/apt</td>\n",
       "      <td>273</td>\n",
       "      <td>2</td>\n",
       "      <td>181</td>\n",
       "      <td>2020-03-15</td>\n",
       "      <td>2.02</td>\n",
       "      <td>1</td>\n",
       "      <td>207</td>\n",
       "    </tr>\n",
       "    <tr>\n",
       "      <th>4</th>\n",
       "      <td>35764</td>\n",
       "      <td>COPACABANA SEA BREEZE  -  RIO - 20 X Superhost</td>\n",
       "      <td>153691</td>\n",
       "      <td>Patricia Miranda &amp; Paulo</td>\n",
       "      <td>NaN</td>\n",
       "      <td>Copacabana</td>\n",
       "      <td>-22.98127</td>\n",
       "      <td>-43.19046</td>\n",
       "      <td>Entire home/apt</td>\n",
       "      <td>135</td>\n",
       "      <td>3</td>\n",
       "      <td>353</td>\n",
       "      <td>2021-02-10</td>\n",
       "      <td>2.79</td>\n",
       "      <td>1</td>\n",
       "      <td>101</td>\n",
       "    </tr>\n",
       "  </tbody>\n",
       "</table>\n",
       "</div>"
      ],
      "text/plain": [
       "      id                                               name  host_id  \\\n",
       "0  17878  Very Nice 2Br in Copacabana w. balcony, fast WiFi    68997   \n",
       "1  24480                   Nice and cozy near Ipanema Beach    99249   \n",
       "2  25026          Beautiful Modern Decorated Studio in Copa  3746246   \n",
       "3  35636                   Cosy flat close to Ipanema beach   153232   \n",
       "4  35764     COPACABANA SEA BREEZE  -  RIO - 20 X Superhost   153691   \n",
       "\n",
       "                  host_name  neighbourhood_group neighbourhood  latitude  \\\n",
       "0                  Matthias                  NaN    Copacabana -22.96592   \n",
       "1                      Goya                  NaN       Ipanema -22.98570   \n",
       "2                  Ghizlane                  NaN    Copacabana -22.97712   \n",
       "3                  Patricia                  NaN       Ipanema -22.98816   \n",
       "4  Patricia Miranda & Paulo                  NaN    Copacabana -22.98127   \n",
       "\n",
       "   longitude        room_type  price  minimum_nights  number_of_reviews  \\\n",
       "0  -43.17896  Entire home/apt    221               5                260   \n",
       "1  -43.20193  Entire home/apt    307               3                 85   \n",
       "2  -43.19045  Entire home/apt    160               7                238   \n",
       "3  -43.19359  Entire home/apt    273               2                181   \n",
       "4  -43.19046  Entire home/apt    135               3                353   \n",
       "\n",
       "  last_review  reviews_per_month  calculated_host_listings_count  \\\n",
       "0  2021-02-08               2.01                               1   \n",
       "1  2018-02-14               0.67                               1   \n",
       "2  2020-02-15               1.82                              11   \n",
       "3  2020-03-15               2.02                               1   \n",
       "4  2021-02-10               2.79                               1   \n",
       "\n",
       "   availability_365  \n",
       "0               304  \n",
       "1                10  \n",
       "2               328  \n",
       "3               207  \n",
       "4               101  "
      ]
     },
     "execution_count": 3,
     "metadata": {},
     "output_type": "execute_result"
    }
   ],
   "source": [
    "df.head()"
   ]
  },
  {
   "cell_type": "markdown",
   "metadata": {},
   "source": [
    "#### Analisando estrutura do Dataset"
   ]
  },
  {
   "cell_type": "code",
   "execution_count": 4,
   "metadata": {},
   "outputs": [
    {
     "name": "stdout",
     "output_type": "stream",
     "text": [
      "Quantidade de registros: 26615\n",
      "---------------------------------------\n",
      "Quantidade de variáveis: 16\n",
      "---------------------------------------\n",
      "<class 'pandas.core.frame.DataFrame'>\n",
      "RangeIndex: 26615 entries, 0 to 26614\n",
      "Data columns (total 16 columns):\n",
      " #   Column                          Non-Null Count  Dtype  \n",
      "---  ------                          --------------  -----  \n",
      " 0   id                              26615 non-null  int64  \n",
      " 1   name                            26586 non-null  object \n",
      " 2   host_id                         26615 non-null  int64  \n",
      " 3   host_name                       26591 non-null  object \n",
      " 4   neighbourhood_group             0 non-null      float64\n",
      " 5   neighbourhood                   26615 non-null  object \n",
      " 6   latitude                        26615 non-null  float64\n",
      " 7   longitude                       26615 non-null  float64\n",
      " 8   room_type                       26615 non-null  object \n",
      " 9   price                           26615 non-null  int64  \n",
      " 10  minimum_nights                  26615 non-null  int64  \n",
      " 11  number_of_reviews               26615 non-null  int64  \n",
      " 12  last_review                     16657 non-null  object \n",
      " 13  reviews_per_month               16657 non-null  float64\n",
      " 14  calculated_host_listings_count  26615 non-null  int64  \n",
      " 15  availability_365                26615 non-null  int64  \n",
      "dtypes: float64(4), int64(7), object(5)\n",
      "memory usage: 3.2+ MB\n",
      "None\n"
     ]
    }
   ],
   "source": [
    "print(f\"Quantidade de registros: {df.shape[0]}\")\n",
    "print(\"---------------------------------------\")\n",
    "print(f\"Quantidade de variáveis: {df.shape[1]}\")\n",
    "print(\"---------------------------------------\")\n",
    "print(df.info())"
   ]
  },
  {
   "cell_type": "markdown",
   "metadata": {},
   "source": [
    "#### Verificando a porcenteagem de valores nulos por variável"
   ]
  },
  {
   "cell_type": "code",
   "execution_count": 5,
   "metadata": {},
   "outputs": [
    {
     "data": {
      "text/plain": [
       "neighbourhood_group               1.000000\n",
       "reviews_per_month                 0.374150\n",
       "last_review                       0.374150\n",
       "name                              0.001090\n",
       "host_name                         0.000902\n",
       "availability_365                  0.000000\n",
       "calculated_host_listings_count    0.000000\n",
       "number_of_reviews                 0.000000\n",
       "minimum_nights                    0.000000\n",
       "price                             0.000000\n",
       "room_type                         0.000000\n",
       "longitude                         0.000000\n",
       "latitude                          0.000000\n",
       "neighbourhood                     0.000000\n",
       "host_id                           0.000000\n",
       "id                                0.000000\n",
       "dtype: float64"
      ]
     },
     "execution_count": 5,
     "metadata": {},
     "output_type": "execute_result"
    }
   ],
   "source": [
    "(df.isnull().sum() / df.shape[0]).sort_values(ascending=False)"
   ]
  },
  {
   "cell_type": "markdown",
   "metadata": {},
   "source": [
    "Note que a variável \"neighbourhood_group\" não possui valor em nenhuma dos registros, com o objetivo de reduzir o número de variáveis vamos removê-la do nosso conjunto. Além disso, temos alguns imóveis que não tiveram avaliação."
   ]
  },
  {
   "cell_type": "code",
   "execution_count": 6,
   "metadata": {},
   "outputs": [
    {
     "data": {
      "text/plain": [
       "Index(['id', 'name', 'host_id', 'host_name', 'neighbourhood', 'latitude',\n",
       "       'longitude', 'room_type', 'price', 'minimum_nights',\n",
       "       'number_of_reviews', 'last_review', 'reviews_per_month',\n",
       "       'calculated_host_listings_count', 'availability_365'],\n",
       "      dtype='object')"
      ]
     },
     "execution_count": 6,
     "metadata": {},
     "output_type": "execute_result"
    }
   ],
   "source": [
    "df = df.drop([\"neighbourhood_group\"], axis=1)\n",
    "df.columns"
   ]
  },
  {
   "cell_type": "markdown",
   "metadata": {},
   "source": [
    "Verificando se há algum registro com o preço zerado:"
   ]
  },
  {
   "cell_type": "code",
   "execution_count": 7,
   "metadata": {},
   "outputs": [
    {
     "data": {
      "text/html": [
       "<div>\n",
       "<style scoped>\n",
       "    .dataframe tbody tr th:only-of-type {\n",
       "        vertical-align: middle;\n",
       "    }\n",
       "\n",
       "    .dataframe tbody tr th {\n",
       "        vertical-align: top;\n",
       "    }\n",
       "\n",
       "    .dataframe thead th {\n",
       "        text-align: right;\n",
       "    }\n",
       "</style>\n",
       "<table border=\"1\" class=\"dataframe\">\n",
       "  <thead>\n",
       "    <tr style=\"text-align: right;\">\n",
       "      <th></th>\n",
       "      <th>id</th>\n",
       "      <th>name</th>\n",
       "      <th>host_id</th>\n",
       "      <th>host_name</th>\n",
       "      <th>neighbourhood</th>\n",
       "      <th>latitude</th>\n",
       "      <th>longitude</th>\n",
       "      <th>room_type</th>\n",
       "      <th>price</th>\n",
       "      <th>minimum_nights</th>\n",
       "      <th>number_of_reviews</th>\n",
       "      <th>last_review</th>\n",
       "      <th>reviews_per_month</th>\n",
       "      <th>calculated_host_listings_count</th>\n",
       "      <th>availability_365</th>\n",
       "    </tr>\n",
       "  </thead>\n",
       "  <tbody>\n",
       "    <tr>\n",
       "      <th>22101</th>\n",
       "      <td>43036115</td>\n",
       "      <td>Rio Design Hotel</td>\n",
       "      <td>311180109</td>\n",
       "      <td>Rio Design</td>\n",
       "      <td>Copacabana</td>\n",
       "      <td>-22.98298</td>\n",
       "      <td>-43.19063</td>\n",
       "      <td>Hotel room</td>\n",
       "      <td>0</td>\n",
       "      <td>1</td>\n",
       "      <td>0</td>\n",
       "      <td>NaN</td>\n",
       "      <td>NaN</td>\n",
       "      <td>1</td>\n",
       "      <td>0</td>\n",
       "    </tr>\n",
       "    <tr>\n",
       "      <th>22102</th>\n",
       "      <td>43036122</td>\n",
       "      <td>Belga Hotel e Restaurante Ltda</td>\n",
       "      <td>286416585</td>\n",
       "      <td>Belga</td>\n",
       "      <td>Centro</td>\n",
       "      <td>-22.90133</td>\n",
       "      <td>-43.18280</td>\n",
       "      <td>Hotel room</td>\n",
       "      <td>0</td>\n",
       "      <td>1</td>\n",
       "      <td>0</td>\n",
       "      <td>NaN</td>\n",
       "      <td>NaN</td>\n",
       "      <td>1</td>\n",
       "      <td>0</td>\n",
       "    </tr>\n",
       "    <tr>\n",
       "      <th>22156</th>\n",
       "      <td>43133883</td>\n",
       "      <td>Arena Copacabana Hotel</td>\n",
       "      <td>313782664</td>\n",
       "      <td>Arena Copacabana</td>\n",
       "      <td>Copacabana</td>\n",
       "      <td>-22.96906</td>\n",
       "      <td>-43.18171</td>\n",
       "      <td>Hotel room</td>\n",
       "      <td>0</td>\n",
       "      <td>1</td>\n",
       "      <td>0</td>\n",
       "      <td>NaN</td>\n",
       "      <td>NaN</td>\n",
       "      <td>1</td>\n",
       "      <td>0</td>\n",
       "    </tr>\n",
       "    <tr>\n",
       "      <th>22161</th>\n",
       "      <td>43148322</td>\n",
       "      <td>Américas Barra Hotel &amp; Eventos</td>\n",
       "      <td>315032561</td>\n",
       "      <td>Américas Barra</td>\n",
       "      <td>Barra da Tijuca</td>\n",
       "      <td>-23.00065</td>\n",
       "      <td>-43.41907</td>\n",
       "      <td>Hotel room</td>\n",
       "      <td>0</td>\n",
       "      <td>1</td>\n",
       "      <td>0</td>\n",
       "      <td>NaN</td>\n",
       "      <td>NaN</td>\n",
       "      <td>1</td>\n",
       "      <td>0</td>\n",
       "    </tr>\n",
       "    <tr>\n",
       "      <th>22198</th>\n",
       "      <td>43247506</td>\n",
       "      <td>Americas Granada Hotel</td>\n",
       "      <td>310461308</td>\n",
       "      <td>Américas Granada</td>\n",
       "      <td>Centro</td>\n",
       "      <td>-22.91155</td>\n",
       "      <td>-43.18380</td>\n",
       "      <td>Hotel room</td>\n",
       "      <td>0</td>\n",
       "      <td>1</td>\n",
       "      <td>0</td>\n",
       "      <td>NaN</td>\n",
       "      <td>NaN</td>\n",
       "      <td>1</td>\n",
       "      <td>0</td>\n",
       "    </tr>\n",
       "    <tr>\n",
       "      <th>22221</th>\n",
       "      <td>43309227</td>\n",
       "      <td>Augusto's Riocopa Hotel</td>\n",
       "      <td>312899567</td>\n",
       "      <td>Augusto'S</td>\n",
       "      <td>Copacabana</td>\n",
       "      <td>-22.96159</td>\n",
       "      <td>-43.17491</td>\n",
       "      <td>Hotel room</td>\n",
       "      <td>0</td>\n",
       "      <td>1</td>\n",
       "      <td>0</td>\n",
       "      <td>NaN</td>\n",
       "      <td>NaN</td>\n",
       "      <td>1</td>\n",
       "      <td>0</td>\n",
       "    </tr>\n",
       "    <tr>\n",
       "      <th>23220</th>\n",
       "      <td>45636785</td>\n",
       "      <td>Selina Copacabana</td>\n",
       "      <td>369708259</td>\n",
       "      <td>Selina</td>\n",
       "      <td>Copacabana</td>\n",
       "      <td>-22.98010</td>\n",
       "      <td>-43.19002</td>\n",
       "      <td>Hotel room</td>\n",
       "      <td>0</td>\n",
       "      <td>1</td>\n",
       "      <td>0</td>\n",
       "      <td>NaN</td>\n",
       "      <td>NaN</td>\n",
       "      <td>1</td>\n",
       "      <td>0</td>\n",
       "    </tr>\n",
       "  </tbody>\n",
       "</table>\n",
       "</div>"
      ],
      "text/plain": [
       "             id                            name    host_id         host_name  \\\n",
       "22101  43036115                Rio Design Hotel  311180109        Rio Design   \n",
       "22102  43036122  Belga Hotel e Restaurante Ltda  286416585             Belga   \n",
       "22156  43133883          Arena Copacabana Hotel  313782664  Arena Copacabana   \n",
       "22161  43148322  Américas Barra Hotel & Eventos  315032561    Américas Barra   \n",
       "22198  43247506          Americas Granada Hotel  310461308  Américas Granada   \n",
       "22221  43309227         Augusto's Riocopa Hotel  312899567         Augusto'S   \n",
       "23220  45636785               Selina Copacabana  369708259            Selina   \n",
       "\n",
       "         neighbourhood  latitude  longitude   room_type  price  \\\n",
       "22101       Copacabana -22.98298  -43.19063  Hotel room      0   \n",
       "22102           Centro -22.90133  -43.18280  Hotel room      0   \n",
       "22156       Copacabana -22.96906  -43.18171  Hotel room      0   \n",
       "22161  Barra da Tijuca -23.00065  -43.41907  Hotel room      0   \n",
       "22198           Centro -22.91155  -43.18380  Hotel room      0   \n",
       "22221       Copacabana -22.96159  -43.17491  Hotel room      0   \n",
       "23220       Copacabana -22.98010  -43.19002  Hotel room      0   \n",
       "\n",
       "       minimum_nights  number_of_reviews last_review  reviews_per_month  \\\n",
       "22101               1                  0         NaN                NaN   \n",
       "22102               1                  0         NaN                NaN   \n",
       "22156               1                  0         NaN                NaN   \n",
       "22161               1                  0         NaN                NaN   \n",
       "22198               1                  0         NaN                NaN   \n",
       "22221               1                  0         NaN                NaN   \n",
       "23220               1                  0         NaN                NaN   \n",
       "\n",
       "       calculated_host_listings_count  availability_365  \n",
       "22101                               1                 0  \n",
       "22102                               1                 0  \n",
       "22156                               1                 0  \n",
       "22161                               1                 0  \n",
       "22198                               1                 0  \n",
       "22221                               1                 0  \n",
       "23220                               1                 0  "
      ]
     },
     "execution_count": 7,
     "metadata": {},
     "output_type": "execute_result"
    }
   ],
   "source": [
    "df[df[\"price\"] == 0]"
   ]
  },
  {
   "cell_type": "markdown",
   "metadata": {},
   "source": [
    "Vamos apagar os registros com o preço igual a zero, uma vez que espera-se que não tenha nem um imóvel de graça."
   ]
  },
  {
   "cell_type": "code",
   "execution_count": 8,
   "metadata": {},
   "outputs": [],
   "source": [
    "df = df[df[\"price\"] > 0]"
   ]
  },
  {
   "cell_type": "code",
   "execution_count": 9,
   "metadata": {},
   "outputs": [],
   "source": [
    "df = df.dropna(axis='rows')"
   ]
  },
  {
   "cell_type": "code",
   "execution_count": 10,
   "metadata": {},
   "outputs": [
    {
     "name": "stdout",
     "output_type": "stream",
     "text": [
      "<class 'pandas.core.frame.DataFrame'>\n",
      "Int64Index: 16640 entries, 0 to 26460\n",
      "Data columns (total 15 columns):\n",
      " #   Column                          Non-Null Count  Dtype  \n",
      "---  ------                          --------------  -----  \n",
      " 0   id                              16640 non-null  int64  \n",
      " 1   name                            16640 non-null  object \n",
      " 2   host_id                         16640 non-null  int64  \n",
      " 3   host_name                       16640 non-null  object \n",
      " 4   neighbourhood                   16640 non-null  object \n",
      " 5   latitude                        16640 non-null  float64\n",
      " 6   longitude                       16640 non-null  float64\n",
      " 7   room_type                       16640 non-null  object \n",
      " 8   price                           16640 non-null  int64  \n",
      " 9   minimum_nights                  16640 non-null  int64  \n",
      " 10  number_of_reviews               16640 non-null  int64  \n",
      " 11  last_review                     16640 non-null  object \n",
      " 12  reviews_per_month               16640 non-null  float64\n",
      " 13  calculated_host_listings_count  16640 non-null  int64  \n",
      " 14  availability_365                16640 non-null  int64  \n",
      "dtypes: float64(3), int64(7), object(5)\n",
      "memory usage: 2.0+ MB\n"
     ]
    }
   ],
   "source": [
    "df.info()"
   ]
  },
  {
   "cell_type": "code",
   "execution_count": 50,
   "metadata": {},
   "outputs": [
    {
     "data": {
      "image/png": "[encoded data removed]",
      "text/plain": [
       "<Figure size 1080x720 with 6 Axes>"
      ]
     },
     "metadata": {},
     "output_type": "display_data"
    }
   ],
   "source": [
    "g = df[['price', 'minimum_nights', 'number_of_reviews', 'reviews_per_month',\n",
    "    'calculated_host_listings_count', 'availability_365']].hist(bins=\"sturges\", figsize=(15,10))\n",
    "plt.tight_layout()\n",
    "plt.show()"
   ]
  },
  {
   "cell_type": "markdown",
   "metadata": {},
   "source": [
    "Pela distribuição do histograma, é possível verificar indícios da presença de outliers. Olhe por exemplo as variáveis price, minimum_nights e calculated_host_listings_count."
   ]
  },
  {
   "cell_type": "markdown",
   "metadata": {},
   "source": [
    "Os valores não seguem uma distruição, e distorcem toda a representação gráfica. Para confirmar, há duas maneiras rápidas que auxiliam a detecção de outliers. São elas:\n",
    "\n",
    "- Resumo estatístico por meio do método describe()\n",
    "- Plotar boxplots para a variável."
   ]
  },
  {
   "cell_type": "code",
   "execution_count": 12,
   "metadata": {},
   "outputs": [
    {
     "data": {
      "text/html": [
       "<div>\n",
       "<style scoped>\n",
       "    .dataframe tbody tr th:only-of-type {\n",
       "        vertical-align: middle;\n",
       "    }\n",
       "\n",
       "    .dataframe tbody tr th {\n",
       "        vertical-align: top;\n",
       "    }\n",
       "\n",
       "    .dataframe thead th {\n",
       "        text-align: right;\n",
       "    }\n",
       "</style>\n",
       "<table border=\"1\" class=\"dataframe\">\n",
       "  <thead>\n",
       "    <tr style=\"text-align: right;\">\n",
       "      <th></th>\n",
       "      <th>price</th>\n",
       "      <th>minimum_nights</th>\n",
       "      <th>number_of_reviews</th>\n",
       "      <th>reviews_per_month</th>\n",
       "      <th>calculated_host_listings_count</th>\n",
       "      <th>availability_365</th>\n",
       "    </tr>\n",
       "  </thead>\n",
       "  <tbody>\n",
       "    <tr>\n",
       "      <th>count</th>\n",
       "      <td>16640.000000</td>\n",
       "      <td>16640.000000</td>\n",
       "      <td>16640.000000</td>\n",
       "      <td>16640.000000</td>\n",
       "      <td>16640.000000</td>\n",
       "      <td>16640.000000</td>\n",
       "    </tr>\n",
       "    <tr>\n",
       "      <th>mean</th>\n",
       "      <td>461.007873</td>\n",
       "      <td>3.779627</td>\n",
       "      <td>19.416466</td>\n",
       "      <td>0.629180</td>\n",
       "      <td>5.851022</td>\n",
       "      <td>210.022656</td>\n",
       "    </tr>\n",
       "    <tr>\n",
       "      <th>std</th>\n",
       "      <td>2663.120893</td>\n",
       "      <td>16.428251</td>\n",
       "      <td>35.660673</td>\n",
       "      <td>0.875921</td>\n",
       "      <td>18.180373</td>\n",
       "      <td>137.922053</td>\n",
       "    </tr>\n",
       "    <tr>\n",
       "      <th>min</th>\n",
       "      <td>33.000000</td>\n",
       "      <td>1.000000</td>\n",
       "      <td>1.000000</td>\n",
       "      <td>0.010000</td>\n",
       "      <td>1.000000</td>\n",
       "      <td>0.000000</td>\n",
       "    </tr>\n",
       "    <tr>\n",
       "      <th>25%</th>\n",
       "      <td>145.000000</td>\n",
       "      <td>2.000000</td>\n",
       "      <td>2.000000</td>\n",
       "      <td>0.090000</td>\n",
       "      <td>1.000000</td>\n",
       "      <td>85.000000</td>\n",
       "    </tr>\n",
       "    <tr>\n",
       "      <th>50%</th>\n",
       "      <td>231.000000</td>\n",
       "      <td>2.000000</td>\n",
       "      <td>6.000000</td>\n",
       "      <td>0.270000</td>\n",
       "      <td>2.000000</td>\n",
       "      <td>204.000000</td>\n",
       "    </tr>\n",
       "    <tr>\n",
       "      <th>75%</th>\n",
       "      <td>400.000000</td>\n",
       "      <td>3.000000</td>\n",
       "      <td>19.000000</td>\n",
       "      <td>0.850000</td>\n",
       "      <td>3.000000</td>\n",
       "      <td>360.000000</td>\n",
       "    </tr>\n",
       "    <tr>\n",
       "      <th>max</th>\n",
       "      <td>129080.000000</td>\n",
       "      <td>1000.000000</td>\n",
       "      <td>446.000000</td>\n",
       "      <td>29.530000</td>\n",
       "      <td>295.000000</td>\n",
       "      <td>365.000000</td>\n",
       "    </tr>\n",
       "  </tbody>\n",
       "</table>\n",
       "</div>"
      ],
      "text/plain": [
       "               price  minimum_nights  number_of_reviews  reviews_per_month  \\\n",
       "count   16640.000000    16640.000000       16640.000000       16640.000000   \n",
       "mean      461.007873        3.779627          19.416466           0.629180   \n",
       "std      2663.120893       16.428251          35.660673           0.875921   \n",
       "min        33.000000        1.000000           1.000000           0.010000   \n",
       "25%       145.000000        2.000000           2.000000           0.090000   \n",
       "50%       231.000000        2.000000           6.000000           0.270000   \n",
       "75%       400.000000        3.000000          19.000000           0.850000   \n",
       "max    129080.000000     1000.000000         446.000000          29.530000   \n",
       "\n",
       "       calculated_host_listings_count  availability_365  \n",
       "count                    16640.000000      16640.000000  \n",
       "mean                         5.851022        210.022656  \n",
       "std                         18.180373        137.922053  \n",
       "min                          1.000000          0.000000  \n",
       "25%                          1.000000         85.000000  \n",
       "50%                          2.000000        204.000000  \n",
       "75%                          3.000000        360.000000  \n",
       "max                        295.000000        365.000000  "
      ]
     },
     "execution_count": 12,
     "metadata": {},
     "output_type": "execute_result"
    }
   ],
   "source": [
    "df[['price', 'minimum_nights', 'number_of_reviews', 'reviews_per_month',\n",
    "    'calculated_host_listings_count', 'availability_365']].describe()"
   ]
  },
  {
   "cell_type": "markdown",
   "metadata": {},
   "source": [
    "Olhando o resumo estatístico acima, podemos confirmar algumas hipóteses como:\n",
    "\n",
    "- A variável price possui 75% do valor abaixo de 550, porém seu valor máximo é 625216.\n",
    "- A quantidade mínima de noites (minimum_nights) está acima do limite real de 365 dias no ano"
   ]
  },
  {
   "cell_type": "code",
   "execution_count": 13,
   "metadata": {},
   "outputs": [
    {
     "data": {
      "image/png": "[encoded data removed]",
      "text/plain": [
       "<Figure size 1080x216 with 1 Axes>"
      ]
     },
     "metadata": {
      "needs_background": "light"
     },
     "output_type": "display_data"
    },
    {
     "name": "stdout",
     "output_type": "stream",
     "text": [
      "minimum_nights: valores acima de 30:\n",
      "263 entradas\n",
      "1.5805%\n"
     ]
    }
   ],
   "source": [
    "# minimum_nights\n",
    "df.minimum_nights.plot(kind='box', vert=False, figsize=(15, 3))\n",
    "plt.tight_layout()\n",
    "plt.show()\n",
    "\n",
    "# ver quantidade de valores acima de 30 dias para minimum_nights\n",
    "print(\"minimum_nights: valores acima de 30:\")\n",
    "print(\"{} entradas\".format(len(df[df.minimum_nights > 15])))\n",
    "print(\"{:.4f}%\".format((len(df[df.minimum_nights > 15]) / df.shape[0])*100))"
   ]
  },
  {
   "cell_type": "code",
   "execution_count": 14,
   "metadata": {},
   "outputs": [
    {
     "data": {
      "image/png": "[encoded data removed]",
      "text/plain": [
       "<Figure size 1080x216 with 1 Axes>"
      ]
     },
     "metadata": {
      "needs_background": "light"
     },
     "output_type": "display_data"
    },
    {
     "name": "stdout",
     "output_type": "stream",
     "text": [
      "\n",
      "price: valores acima de 1500\n",
      "558 entradas\n",
      "3.3534%\n"
     ]
    }
   ],
   "source": [
    "# price\n",
    "df.price.plot(kind='box', vert=False, figsize=(15, 3),)\n",
    "plt.show()\n",
    "\n",
    "# ver quantidade de valores acima de 1500 para price\n",
    "print(\"\\nprice: valores acima de 1500\")\n",
    "print(\"{} entradas\".format(len(df[df.price > 1400])))\n",
    "print(\"{:.4f}%\".format((len(df[df.price > 1400]) / df.shape[0])*100))\n",
    "\n",
    "# df.price.plot(kind='box', vert=False, xlim=(0,1400), figsize=(15,3));"
   ]
  },
  {
   "cell_type": "code",
   "execution_count": 15,
   "metadata": {},
   "outputs": [],
   "source": [
    "# remover os *outliers* em um novo DataFrame só com as variáveis númericas\n",
    "df_clean = df.copy()[['price', 'minimum_nights', 'number_of_reviews', 'reviews_per_month',\n",
    "    'calculated_host_listings_count', 'availability_365']]\n",
    "\n",
    "df_clean = df_clean[(np.abs(stats.zscore(df_clean)) < 3).all(axis=1)] "
   ]
  },
  {
   "cell_type": "code",
   "execution_count": 16,
   "metadata": {},
   "outputs": [
    {
     "data": {
      "text/html": [
       "<div>\n",
       "<style scoped>\n",
       "    .dataframe tbody tr th:only-of-type {\n",
       "        vertical-align: middle;\n",
       "    }\n",
       "\n",
       "    .dataframe tbody tr th {\n",
       "        vertical-align: top;\n",
       "    }\n",
       "\n",
       "    .dataframe thead th {\n",
       "        text-align: right;\n",
       "    }\n",
       "</style>\n",
       "<table border=\"1\" class=\"dataframe\">\n",
       "  <thead>\n",
       "    <tr style=\"text-align: right;\">\n",
       "      <th></th>\n",
       "      <th>price</th>\n",
       "      <th>minimum_nights</th>\n",
       "      <th>number_of_reviews</th>\n",
       "      <th>reviews_per_month</th>\n",
       "      <th>calculated_host_listings_count</th>\n",
       "      <th>availability_365</th>\n",
       "    </tr>\n",
       "  </thead>\n",
       "  <tbody>\n",
       "    <tr>\n",
       "      <th>count</th>\n",
       "      <td>15795.000000</td>\n",
       "      <td>15795.000000</td>\n",
       "      <td>15795.000000</td>\n",
       "      <td>15795.000000</td>\n",
       "      <td>15795.000000</td>\n",
       "      <td>15795.000000</td>\n",
       "    </tr>\n",
       "    <tr>\n",
       "      <th>mean</th>\n",
       "      <td>374.183349</td>\n",
       "      <td>3.105920</td>\n",
       "      <td>15.099335</td>\n",
       "      <td>0.524419</td>\n",
       "      <td>4.762077</td>\n",
       "      <td>210.836910</td>\n",
       "    </tr>\n",
       "    <tr>\n",
       "      <th>std</th>\n",
       "      <td>504.955291</td>\n",
       "      <td>3.417545</td>\n",
       "      <td>22.709828</td>\n",
       "      <td>0.623065</td>\n",
       "      <td>9.346752</td>\n",
       "      <td>138.505087</td>\n",
       "    </tr>\n",
       "    <tr>\n",
       "      <th>min</th>\n",
       "      <td>39.000000</td>\n",
       "      <td>1.000000</td>\n",
       "      <td>1.000000</td>\n",
       "      <td>0.010000</td>\n",
       "      <td>1.000000</td>\n",
       "      <td>0.000000</td>\n",
       "    </tr>\n",
       "    <tr>\n",
       "      <th>25%</th>\n",
       "      <td>146.000000</td>\n",
       "      <td>2.000000</td>\n",
       "      <td>2.000000</td>\n",
       "      <td>0.080000</td>\n",
       "      <td>1.000000</td>\n",
       "      <td>85.500000</td>\n",
       "    </tr>\n",
       "    <tr>\n",
       "      <th>50%</th>\n",
       "      <td>235.000000</td>\n",
       "      <td>2.000000</td>\n",
       "      <td>5.000000</td>\n",
       "      <td>0.250000</td>\n",
       "      <td>1.000000</td>\n",
       "      <td>206.000000</td>\n",
       "    </tr>\n",
       "    <tr>\n",
       "      <th>75%</th>\n",
       "      <td>400.000000</td>\n",
       "      <td>3.000000</td>\n",
       "      <td>17.000000</td>\n",
       "      <td>0.740000</td>\n",
       "      <td>3.000000</td>\n",
       "      <td>361.000000</td>\n",
       "    </tr>\n",
       "    <tr>\n",
       "      <th>max</th>\n",
       "      <td>8182.000000</td>\n",
       "      <td>50.000000</td>\n",
       "      <td>126.000000</td>\n",
       "      <td>3.250000</td>\n",
       "      <td>59.000000</td>\n",
       "      <td>365.000000</td>\n",
       "    </tr>\n",
       "  </tbody>\n",
       "</table>\n",
       "</div>"
      ],
      "text/plain": [
       "              price  minimum_nights  number_of_reviews  reviews_per_month  \\\n",
       "count  15795.000000    15795.000000       15795.000000       15795.000000   \n",
       "mean     374.183349        3.105920          15.099335           0.524419   \n",
       "std      504.955291        3.417545          22.709828           0.623065   \n",
       "min       39.000000        1.000000           1.000000           0.010000   \n",
       "25%      146.000000        2.000000           2.000000           0.080000   \n",
       "50%      235.000000        2.000000           5.000000           0.250000   \n",
       "75%      400.000000        3.000000          17.000000           0.740000   \n",
       "max     8182.000000       50.000000         126.000000           3.250000   \n",
       "\n",
       "       calculated_host_listings_count  availability_365  \n",
       "count                    15795.000000      15795.000000  \n",
       "mean                         4.762077        210.836910  \n",
       "std                          9.346752        138.505087  \n",
       "min                          1.000000          0.000000  \n",
       "25%                          1.000000         85.500000  \n",
       "50%                          1.000000        206.000000  \n",
       "75%                          3.000000        361.000000  \n",
       "max                         59.000000        365.000000  "
      ]
     },
     "execution_count": 16,
     "metadata": {},
     "output_type": "execute_result"
    }
   ],
   "source": [
    "df_clean.describe()"
   ]
  },
  {
   "cell_type": "code",
   "execution_count": 51,
   "metadata": {},
   "outputs": [
    {
     "data": {
      "image/png": "[encoded data removed]",
      "text/plain": [
       "<Figure size 1080x720 with 6 Axes>"
      ]
     },
     "metadata": {},
     "output_type": "display_data"
    }
   ],
   "source": [
    "# plotar o histograma para as variáveis numéricas\n",
    "df_clean.hist(bins=\"sturges\", figsize=(15,10))\n",
    "plt.tight_layout()\n",
    "plt.show()"
   ]
  },
  {
   "cell_type": "markdown",
   "metadata": {},
   "source": [
    "Observe qua a visualização já melhorou um pouco."
   ]
  },
  {
   "cell_type": "markdown",
   "metadata": {},
   "source": [
    "![](https://user-images.githubusercontent.com/7065401/52071927-c1cd7100-2562-11e9-908a-dde91ba14e59.png)"
   ]
  },
  {
   "cell_type": "markdown",
   "metadata": {},
   "source": [
    "# **Visualização de Dados**"
   ]
  },
  {
   "cell_type": "markdown",
   "metadata": {},
   "source": [
    "## Visualização de variáveis Qualitativas e Quantitativas Discretas com menos de 6 valores distintos\n",
    "\n",
    "<hr>"
   ]
  },
  {
   "cell_type": "code",
   "execution_count": 18,
   "metadata": {},
   "outputs": [
    {
     "data": {
      "text/plain": [
       "Copacabana             5374\n",
       "Ipanema                1784\n",
       "Barra da Tijuca        1636\n",
       "Botafogo                861\n",
       "Leblon                  831\n",
       "                       ... \n",
       "Deodoro                   1\n",
       "Engenho da Rainha         1\n",
       "Bancários                 1\n",
       "Vicente de Carvalho       1\n",
       "Gericinó                  1\n",
       "Name: neighbourhood, Length: 133, dtype: int64"
      ]
     },
     "execution_count": 18,
     "metadata": {},
     "output_type": "execute_result"
    }
   ],
   "source": [
    "quantidade_por_bairro = df[\"neighbourhood\"].value_counts()\n",
    "quantidade_por_bairro"
   ]
  },
  {
   "cell_type": "markdown",
   "metadata": {},
   "source": [
    "### Gráfico de Barras"
   ]
  },
  {
   "cell_type": "markdown",
   "metadata": {},
   "source": [
    "Temos muitos bairros no Rio de Janeiro que possuem pouco imóveis no AirBnB, com o objetivo de melhorar a visualização, vamos plotar apenas dos 10 bairros com mais imóveis"
   ]
  },
  {
   "cell_type": "code",
   "execution_count": 19,
   "metadata": {},
   "outputs": [
    {
     "data": {
      "text/plain": [
       "Copacabana                  5374\n",
       "Ipanema                     1784\n",
       "Barra da Tijuca             1636\n",
       "Botafogo                     861\n",
       "Leblon                       831\n",
       "Jacarepaguá                  726\n",
       "Recreio dos Bandeirantes     647\n",
       "Santa Teresa                 588\n",
       "Centro                       502\n",
       "Flamengo                     422\n",
       "Name: neighbourhood, dtype: int64"
      ]
     },
     "execution_count": 19,
     "metadata": {},
     "output_type": "execute_result"
    }
   ],
   "source": [
    "bairros_mais_imoveis = quantidade_por_bairro[:10]\n",
    "bairros_mais_imoveis"
   ]
  },
  {
   "cell_type": "code",
   "execution_count": 20,
   "metadata": {},
   "outputs": [
    {
     "data": {
      "image/png": "[encoded data removed]",
      "text/plain": [
       "<Figure size 842.4x595.44 with 1 Axes>"
      ]
     },
     "metadata": {},
     "output_type": "display_data"
    }
   ],
   "source": [
    "sns.set(rc={'figure.figsize':(11.7,8.27)})\n",
    "g = sns.barplot(x=bairros_mais_imoveis.index, y=bairros_mais_imoveis.values)\n",
    "g = g.set_xticklabels(g.get_xticklabels(), rotation=30)"
   ]
  },
  {
   "cell_type": "markdown",
   "metadata": {},
   "source": [
    "O bairro que mais possui imóveis no AirBnB no Rio de Janeiro é o de Copacabana, seguido por Barra da Tijuca e Ipanema com cerca 2500 imóveis"
   ]
  },
  {
   "cell_type": "markdown",
   "metadata": {},
   "source": [
    "### Gráfico de Setores"
   ]
  },
  {
   "cell_type": "code",
   "execution_count": 21,
   "metadata": {},
   "outputs": [
    {
     "data": {
      "text/plain": [
       "Entire home/apt    12431\n",
       "Private room        3862\n",
       "Shared room          273\n",
       "Hotel room            74\n",
       "Name: room_type, dtype: int64"
      ]
     },
     "execution_count": 21,
     "metadata": {},
     "output_type": "execute_result"
    }
   ],
   "source": [
    "qtd_tipos_quarto = df[\"room_type\"].value_counts()\n",
    "qtd_tipos_quarto"
   ]
  },
  {
   "cell_type": "code",
   "execution_count": 22,
   "metadata": {},
   "outputs": [
    {
     "data": {
      "image/png": "[encoded data removed]",
      "text/plain": [
       "<Figure size 842.4x595.44 with 1 Axes>"
      ]
     },
     "metadata": {},
     "output_type": "display_data"
    }
   ],
   "source": [
    "wedges, texts  = plt.pie(qtd_tipos_quarto, labels=qtd_tipos_quarto.index)\n",
    "circulo=plt.Circle( (0,0), 0.7, color='white')\n",
    "p=plt.gcf()\n",
    "p.gca().add_artist(circulo)\n",
    "\n",
    "plt.legend(wedges, qtd_tipos_quarto.index)\n",
    "plt.tight_layout()\n",
    "\n",
    "plt.show()"
   ]
  },
  {
   "cell_type": "markdown",
   "metadata": {},
   "source": [
    "## Visualização de variáveis Quantitativas Contínuas\n",
    "<hr>"
   ]
  },
  {
   "cell_type": "markdown",
   "metadata": {},
   "source": [
    "### Histogramas"
   ]
  },
  {
   "cell_type": "code",
   "execution_count": 23,
   "metadata": {},
   "outputs": [
    {
     "data": {
      "image/png": "[encoded data removed]",
      "text/plain": [
       "<Figure size 1080x720 with 6 Axes>"
      ]
     },
     "metadata": {},
     "output_type": "display_data"
    }
   ],
   "source": [
    "df_clean.hist(bins=\"sturges\", figsize=(15,10))\n",
    "plt.tight_layout()\n",
    "plt.show()"
   ]
  },
  {
   "cell_type": "markdown",
   "metadata": {},
   "source": [
    "![](https://user-images.githubusercontent.com/7065401/52071927-c1cd7100-2562-11e9-908a-dde91ba14e59.png)"
   ]
  },
  {
   "cell_type": "markdown",
   "metadata": {},
   "source": [
    "# **Estatística Descritiva**\n",
    "   - Organiza, resume e descreve os dados;\n",
    "   - Organiza e resume através de tabelas de frequência e gráficos;\n",
    "   - Descreve os dados usando 3 tipos de medidas: Medidas de posição, medidas de dispersão e medidas de comparação;\n",
    "   - Medidas de Posição: Média, mediana e moda;\n",
    "   - Medidas de Dispersão: Amplitude, quartil, variância, desvio padrão, etc;\n",
    "   - Medidas de Comparação: Covariância, correlação e escore padrão;\n",
    "\n",
    "![](https://user-images.githubusercontent.com/7065401/52071927-c1cd7100-2562-11e9-908a-dde91ba14e59.png)"
   ]
  },
  {
   "cell_type": "markdown",
   "metadata": {},
   "source": [
    "## **Medidas de Posição**\n",
    "- Localizar a maior concentração de valores de uma distribuição;\n",
    "- Sintetizar o comportamento do conjunto do qual ele é originário;\n",
    "- Possibilitar comparações entre séries de dados;\n",
    "- Medidas: Média, Mediana e Moda"
   ]
  },
  {
   "cell_type": "markdown",
   "metadata": {},
   "source": [
    "<hr>"
   ]
  },
  {
   "cell_type": "markdown",
   "metadata": {},
   "source": [
    "### Média\n",
    "- Centro da distribuição;\n",
    "- Vantagem: Reflete todos os valores;\n",
    "- Desvantagem: É afetada por valores extremos (Outliers)"
   ]
  },
  {
   "cell_type": "markdown",
   "metadata": {},
   "source": [
    "<center>\n",
    "    \n",
    "<img src=\"https://i.imgur.com/hS4mS2w.png\" >\n",
    "    \n",
    "<center />"
   ]
  },
  {
   "cell_type": "markdown",
   "metadata": {},
   "source": [
    "- Modo Pythônico:"
   ]
  },
  {
   "cell_type": "code",
   "execution_count": 24,
   "metadata": {},
   "outputs": [
    {
     "data": {
      "text/plain": [
       "374.18334916112696"
      ]
     },
     "execution_count": 24,
     "metadata": {},
     "output_type": "execute_result"
    }
   ],
   "source": [
    "df_clean[\"price\"].mean()"
   ]
  },
  {
   "cell_type": "markdown",
   "metadata": {},
   "source": [
    "<hr>"
   ]
  },
  {
   "cell_type": "markdown",
   "metadata": {},
   "source": [
    "### Mediana\n",
    "- Divide a distribuição ao meio em partes iguais (Separatriz)\n",
    "- Vantagem: Menos sensível a valores extremos (Outliers)\n",
    "- Desvantagem: Difícil determinar para grande quantidades de dados"
   ]
  },
  {
   "cell_type": "markdown",
   "metadata": {},
   "source": [
    "$$\n",
    "Q_2 = \n",
    "\\begin{cases}\n",
    "x_{\\left(\\frac{n+1}{2}\\right)}, & \\text{se } n \\text{ é ímpar}\\\\[2mm]\n",
    "\\dfrac{x_{\\left(\\frac{n}{2}\\right)} + x_{\\left(\\frac{n}{2}+1\\right)}}{2}, & \\text{se } n \\text{ é par}\n",
    "\\end{cases}\n",
    "$$\n",
    "\n",
    "** considere n igual ao número de observações e que os valores estão ordenados"
   ]
  },
  {
   "cell_type": "markdown",
   "metadata": {},
   "source": [
    "- Modo Pythônico:"
   ]
  },
  {
   "cell_type": "code",
   "execution_count": 25,
   "metadata": {},
   "outputs": [
    {
     "data": {
      "text/plain": [
       "235.0"
      ]
     },
     "execution_count": 25,
     "metadata": {},
     "output_type": "execute_result"
    }
   ],
   "source": [
    "df_clean[\"price\"].median()"
   ]
  },
  {
   "cell_type": "markdown",
   "metadata": {},
   "source": [
    "<hr>"
   ]
  },
  {
   "cell_type": "markdown",
   "metadata": {},
   "source": [
    "### Moda\n",
    "- Valor maios frequente;\n",
    "- Vantagem: Valor típico;\n",
    "- Desvantagem: Não é utilizado em análises matemáticas;\n",
    "<br>\n",
    "\n",
    "- Termos:\n",
    "    - Amodal: Não existe valor predominante;\n",
    "    - Unimodal: Uma moda;\n",
    "    - Bimodal: Duas modas;\n",
    "    - Multimodal: Com vários modas;\n",
    "\n",
    "<br>\n",
    "\n",
    "- Moda em dados com classes:\n",
    "<br>\n",
    "\n",
    "<center>\n",
    "<img src=\"https://i.imgur.com/G2Czlvb.png\" >\n",
    "<center />\n",
    "\n",
    "    "
   ]
  },
  {
   "cell_type": "markdown",
   "metadata": {},
   "source": [
    "- Modo Pythônico:"
   ]
  },
  {
   "cell_type": "code",
   "execution_count": 26,
   "metadata": {},
   "outputs": [
    {
     "data": {
      "text/plain": [
       "0    Copacabana\n",
       "dtype: object"
      ]
     },
     "execution_count": 26,
     "metadata": {},
     "output_type": "execute_result"
    }
   ],
   "source": [
    "df[\"neighbourhood\"].mode()"
   ]
  },
  {
   "cell_type": "markdown",
   "metadata": {},
   "source": [
    "![](https://user-images.githubusercontent.com/7065401/52071927-c1cd7100-2562-11e9-908a-dde91ba14e59.png)"
   ]
  },
  {
   "cell_type": "markdown",
   "metadata": {},
   "source": [
    "## **Medidas de Dispersão**\n",
    "- Medem o grau de variabilidade (dispersão) dos valores observados em torno da média aritmética;\n",
    "- Caracterizam a representividade da média e o nível de homogeneidade ou heterogeneidade dentro de cada grupo;\n",
    "\n",
    "<hr>"
   ]
  },
  {
   "cell_type": "markdown",
   "metadata": {},
   "source": [
    "### Amplitude Total (A)\n",
    "- Diferença entre maior e o menor da série;\n",
    "- Não considera a dispersão dos valores internos;\n",
    "- Utilização limitada enquanto medida de dispersão;"
   ]
  },
  {
   "cell_type": "markdown",
   "metadata": {},
   "source": [
    "<center>\n",
    "<img src=\"https://i.imgur.com/D0hnOy4.png\" >\n",
    "<center>"
   ]
  },
  {
   "cell_type": "markdown",
   "metadata": {},
   "source": [
    "- Modo Pythônico:"
   ]
  },
  {
   "cell_type": "code",
   "execution_count": 27,
   "metadata": {},
   "outputs": [
    {
     "data": {
      "text/plain": [
       "8143"
      ]
     },
     "execution_count": 27,
     "metadata": {},
     "output_type": "execute_result"
    }
   ],
   "source": [
    "Xmax = df_clean[\"price\"].max()\n",
    "Xmin = df_clean[\"price\"].min()\n",
    "A = Xmax - Xmin\n",
    "A"
   ]
  },
  {
   "cell_type": "markdown",
   "metadata": {},
   "source": [
    "<hr>"
   ]
  },
  {
   "cell_type": "markdown",
   "metadata": {},
   "source": [
    "### Variância (S²)\n",
    "- Leva em consideração os valores extremos e também os valores intermediários;\n",
    "- Relaciona os desvios em torno da média;\n",
    "- Média aritmética dos quadrados dos desvios\n",
    "- Númer em unidade \"quadrada\", fato que pode se tornar desvantagem;\n",
    "- Maior dificuldade de compreensão e menor utilidade na estatística descritiva;\n",
    "- Extremamente relevante na inferência estatística e em combinações de amostras;\n",
    "\n",
    "<br>\n",
    "\n",
    "<center>\n",
    "<img src=\"https://i.imgur.com/dVDVYMC.png\" >\n",
    "<br>\n",
    "<img src=\"https://i.imgur.com/ZhpRrp9.png\" >\n",
    "<center />"
   ]
  },
  {
   "cell_type": "markdown",
   "metadata": {},
   "source": [
    "- **Modo Pythônico**:\n",
    "    - Variância da População"
   ]
  },
  {
   "cell_type": "code",
   "execution_count": 28,
   "metadata": {},
   "outputs": [
    {
     "data": {
      "text/plain": [
       "254963.70250212488"
      ]
     },
     "execution_count": 28,
     "metadata": {},
     "output_type": "execute_result"
    }
   ],
   "source": [
    "df_clean[\"price\"].var(ddof=0)"
   ]
  },
  {
   "cell_type": "markdown",
   "metadata": {},
   "source": [
    "    - Variância da Amostra:"
   ]
  },
  {
   "cell_type": "code",
   "execution_count": 29,
   "metadata": {},
   "outputs": [
    {
     "data": {
      "text/plain": [
       "254979.8455756023"
      ]
     },
     "execution_count": 29,
     "metadata": {},
     "output_type": "execute_result"
    }
   ],
   "source": [
    "df_clean[\"price\"].var(ddof=1)"
   ]
  },
  {
   "cell_type": "markdown",
   "metadata": {},
   "source": [
    "<hr>"
   ]
  },
  {
   "cell_type": "markdown",
   "metadata": {},
   "source": [
    "### Desvio Padrão (S)\n",
    "- Mais usado na comparação de diferenças entre conjuntos de dados;\n",
    "- Determina a dispersão dos valores em relação a média;\n",
    "\n",
    "<center>\n",
    "<img src=\"https://i.imgur.com/R73K8sS.png\" >\n",
    "<center />"
   ]
  },
  {
   "cell_type": "markdown",
   "metadata": {},
   "source": [
    "- Modo Pythônico:\n",
    " - Desvio Padrão da População"
   ]
  },
  {
   "cell_type": "code",
   "execution_count": 30,
   "metadata": {},
   "outputs": [
    {
     "data": {
      "text/plain": [
       "504.93930576072694"
      ]
     },
     "execution_count": 30,
     "metadata": {},
     "output_type": "execute_result"
    }
   ],
   "source": [
    "df_clean[\"price\"].std(ddof=0)"
   ]
  },
  {
   "cell_type": "markdown",
   "metadata": {},
   "source": [
    "- Desvio Padrão da Amostra"
   ]
  },
  {
   "cell_type": "code",
   "execution_count": 31,
   "metadata": {},
   "outputs": [
    {
     "data": {
      "text/plain": [
       "504.9552906699783"
      ]
     },
     "execution_count": 31,
     "metadata": {},
     "output_type": "execute_result"
    }
   ],
   "source": [
    "df_clean[\"price\"].std(ddof=1)"
   ]
  },
  {
   "cell_type": "markdown",
   "metadata": {},
   "source": [
    "<hr>"
   ]
  },
  {
   "cell_type": "markdown",
   "metadata": {},
   "source": [
    "### Coeficiente de Variação (CV)\n",
    "- Medida relativa de dispersão;\n",
    "- Útil para a comparação em termos relativos do grau de concentração;\n",
    "\n",
    "<center>\n",
    "<img src=\"https://i.imgur.com/LiXC1C2.png\" >\n",
    "<center />\n"
   ]
  },
  {
   "cell_type": "markdown",
   "metadata": {},
   "source": [
    "- Diz-se que uma distribuição:\n",
    "    - **Baixa Dispersão**: CV <= 15%\n",
    "    - **Média Dispersão**: 15% < CV < 30%\n",
    "    - **Alta Dispersão**: CV >= 30%"
   ]
  },
  {
   "cell_type": "markdown",
   "metadata": {},
   "source": [
    "- Modo Pythônico:"
   ]
  },
  {
   "cell_type": "code",
   "execution_count": 32,
   "metadata": {},
   "outputs": [
    {
     "data": {
      "text/plain": [
       "1.3494435465734222"
      ]
     },
     "execution_count": 32,
     "metadata": {},
     "output_type": "execute_result"
    }
   ],
   "source": [
    "from scipy.stats import variation\n",
    "variation(df_clean[\"price\"])"
   ]
  },
  {
   "cell_type": "markdown",
   "metadata": {},
   "source": [
    "<hr>"
   ]
  },
  {
   "cell_type": "markdown",
   "metadata": {},
   "source": [
    "### Assimetria\n",
    "- Referem-se à forma da curva de uma distribuição de frequência (histograma);\n",
    "- Denomina-se assimetria o grau de afastamento de uma distribuição da unidade de simetria;\n",
    "- O quão simétrica é a distribuição dos dados em torno da média;"
   ]
  },
  {
   "cell_type": "markdown",
   "metadata": {},
   "source": [
    "<center>\n",
    "<img src=\"https://miro.medium.com/max/600/1*9451kH1-GPqdNyWdehmPeQ.jpeg\">\n",
    "<center/>"
   ]
  },
  {
   "cell_type": "markdown",
   "metadata": {},
   "source": [
    "- Grau de Assimetria:\n",
    "    - Fórmula :\n",
    "    \n",
    "        ![](https://i.imgur.com/pH0bjzi.png)\n",
    "        \n",
    "    - **AS = 0:** Distribuição é simétrica;\n",
    "    - **AS > 0:** Distribuição Assimétrica Positiva (à direita)\n",
    "    - **AS < 0:** Distribuição Assimétrica Negativa (à esquerda)\n",
    "    \n",
    "    \n",
    "- Anotações Importantes:\n",
    " - Se a assimetria estiver entre -0,5 e 0,5, os dados são bastante simétricos\n",
    " - Se a assimetria estiver entre -1 e -0,5 ou entre 0,5 e 1, os dados estão moderadamente inclinados\n",
    " - Se a assimetria for menor que -1 ou maior que 1, os dados estão altamente enviesados"
   ]
  },
  {
   "cell_type": "markdown",
   "metadata": {},
   "source": [
    "- Modo Pythônico:"
   ]
  },
  {
   "cell_type": "code",
   "execution_count": 33,
   "metadata": {},
   "outputs": [
    {
     "data": {
      "text/plain": [
       "2.4415704669564837"
      ]
     },
     "execution_count": 33,
     "metadata": {},
     "output_type": "execute_result"
    }
   ],
   "source": [
    "from scipy.stats import skew\n",
    "skew(df_clean[\"number_of_reviews\"], bias=False)"
   ]
  },
  {
   "cell_type": "code",
   "execution_count": 34,
   "metadata": {},
   "outputs": [
    {
     "data": {
      "text/plain": [
       "2.441570466956483"
      ]
     },
     "execution_count": 34,
     "metadata": {},
     "output_type": "execute_result"
    }
   ],
   "source": [
    "df_clean[\"number_of_reviews\"].skew()"
   ]
  },
  {
   "cell_type": "markdown",
   "metadata": {},
   "source": [
    "<hr>"
   ]
  },
  {
   "cell_type": "markdown",
   "metadata": {},
   "source": [
    "### Curtose\n",
    "- Grau de achatamento (ou afilamento) de uma curva normal (simétrica)"
   ]
  },
  {
   "cell_type": "markdown",
   "metadata": {},
   "source": [
    "<center>\n",
    "Coeficiente Percentílico de Curtose\n",
    "<br><br>\n",
    "<img src=\"https://i.imgur.com/tRv7VDe.png\" >\n",
    "<center/>"
   ]
  },
  {
   "cell_type": "markdown",
   "metadata": {},
   "source": [
    "- Coeficiente Percentílico de Curtose:\n",
    "    - **Mesocúrtica:** Curva básica de referência (Curva padrão ou normal) => C = 0.263\n",
    "    - **Platicúrtica:** Curva mais achatada (ou mais aberta) que a curva normal => C > 0.263\n",
    "    - **Leptocúrtica:** Curva mais afilada que a curva normal => C < 0.263"
   ]
  },
  {
   "cell_type": "markdown",
   "metadata": {},
   "source": [
    "<center>\n",
    "<img src=\"data:image/png;base64,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\">\n",
    "<center/>"
   ]
  },
  {
   "cell_type": "markdown",
   "metadata": {},
   "source": [
    "- Anotações Importantes:\n",
    "    - Junto com a assimetria, a curtose é uma estatística descritiva importante da distribuição de dados. No entanto, os dois conceitos não devem ser confundidos. A assimetria mede essencialmente a simetria da distribuição, enquanto a curtose determina o peso das caudas da distribuição.\n",
    "    - É a nitidez do pico de uma curva de distribuição de frequência. Na verdade, é a medida dos outliers presentes na distribuição.\n",
    "    - Alta curtose em um conjunto de dados é um indicador de que os dados têm outliers pesados.\n",
    "    - Baixa curtose em um conjunto de dados é um indicador de que os dados não apresentam valores discrepantes.\n",
    "    - Se o valor de curtose + significa pontudo e - significa plano."
   ]
  },
  {
   "cell_type": "markdown",
   "metadata": {},
   "source": [
    "- Modo Pythônico:"
   ]
  },
  {
   "cell_type": "code",
   "execution_count": 35,
   "metadata": {},
   "outputs": [
    {
     "data": {
      "text/plain": [
       "0.19418960244648317"
      ]
     },
     "execution_count": 35,
     "metadata": {},
     "output_type": "execute_result"
    }
   ],
   "source": [
    "C = (np.quantile(df_clean[\"price\"], 0.75)-np.quantile(df_clean[\"price\"], 0.25))/(2*(np.percentile(df_clean[\"price\"], 90)-np.percentile(df_clean[\"price\"], 10)))\n",
    "C"
   ]
  },
  {
   "cell_type": "markdown",
   "metadata": {},
   "source": [
    "No Python, as bibliotecas calculam através do coeficiente de curtose de Fisher, dado pela fórmula:<br><br>\n",
    "![](https://i.imgur.com/CjY2FPh.png)\n",
    "- **Mesocúrtica:** C = 0\n",
    "- **Platicúrtica:** C > 0\n",
    "- **Leptocúrtica:** C < 0"
   ]
  },
  {
   "cell_type": "code",
   "execution_count": 36,
   "metadata": {},
   "outputs": [
    {
     "data": {
      "text/plain": [
       "55.444133835229295"
      ]
     },
     "execution_count": 36,
     "metadata": {},
     "output_type": "execute_result"
    }
   ],
   "source": [
    "from scipy.stats import kurtosis\n",
    "kurtosis(df_clean[\"price\"])"
   ]
  },
  {
   "cell_type": "code",
   "execution_count": 37,
   "metadata": {},
   "outputs": [
    {
     "data": {
      "text/plain": [
       "1706.9207948031485"
      ]
     },
     "execution_count": 37,
     "metadata": {},
     "output_type": "execute_result"
    }
   ],
   "source": [
    "df[\"price\"].kurtosis()"
   ]
  },
  {
   "cell_type": "markdown",
   "metadata": {},
   "source": [
    "<hr>"
   ]
  },
  {
   "cell_type": "markdown",
   "metadata": {},
   "source": [
    "### Percentil\n",
    "- Medida que divide a amostra em 100 partes, cada uma com uma porcentagem de dados aproximadamente igual;\n",
    "- Décimo Percentil = 10% dos dados (menores dados) ordenados (P10)\n",
    "\n",
    "<center>\n",
    "Fórmula para encontra a posição do Percentil:\n",
    "<br><br>\n",
    "<img src=\"https://i.imgur.com/tcpB3n4.png\" > \n",
    "<center/>\n"
   ]
  },
  {
   "cell_type": "markdown",
   "metadata": {},
   "source": [
    "- Modo Pythônico:"
   ]
  },
  {
   "cell_type": "code",
   "execution_count": 38,
   "metadata": {},
   "outputs": [
    {
     "data": {
      "text/plain": [
       "235.0"
      ]
     },
     "execution_count": 38,
     "metadata": {},
     "output_type": "execute_result"
    }
   ],
   "source": [
    "P50 = np.percentile(df_clean[\"price\"], 50)\n",
    "P50"
   ]
  },
  {
   "cell_type": "markdown",
   "metadata": {},
   "source": [
    "<hr>"
   ]
  },
  {
   "cell_type": "markdown",
   "metadata": {},
   "source": [
    "### Quartil\n",
    "- Medida que divide a amostra em 4 partes, cada uma com uma porcentagem de dados aproximadamente igual;\n",
    "- Primeiro Quartil = 25% dos dados (menores dados) ordenados (Q1)\n",
    "- Segundo Quartil = 50% dos dados (menores dados) ordenados (Q2)\n",
    "- Terceiro Quartil = 75% dos dados (menores dados) ordenados (Q3)\n",
    "\n",
    "\n",
    "<center>\n",
    "Fórmula para encontra a posição do Quartil:\n",
    "<br><br>\n",
    "<img src=\"https://i.imgur.com/ADxWRCh.png\" > \n",
    "<center/>\n"
   ]
  },
  {
   "cell_type": "markdown",
   "metadata": {},
   "source": [
    "- Modo Pythônico:"
   ]
  },
  {
   "cell_type": "code",
   "execution_count": 39,
   "metadata": {},
   "outputs": [
    {
     "data": {
      "text/plain": [
       "146.0"
      ]
     },
     "execution_count": 39,
     "metadata": {},
     "output_type": "execute_result"
    }
   ],
   "source": [
    "#primeiro quartil = 25% = 0.25\n",
    "np.quantile(df_clean[\"price\"], 0.25)"
   ]
  },
  {
   "cell_type": "code",
   "execution_count": 40,
   "metadata": {},
   "outputs": [
    {
     "data": {
      "text/plain": [
       "235.0"
      ]
     },
     "execution_count": 40,
     "metadata": {},
     "output_type": "execute_result"
    }
   ],
   "source": [
    "#segundo quartil = 50% = 0.50\n",
    "df_clean[\"price\"].quantile(0.5)"
   ]
  },
  {
   "cell_type": "markdown",
   "metadata": {},
   "source": [
    "<hr>"
   ]
  },
  {
   "cell_type": "markdown",
   "metadata": {},
   "source": [
    "### Gráfico Boxplot ou Diagrama de Caixa\n",
    "- O boxplot nos fornece uma análise visual da posição, dispersão, simetria, caudas e valores discrepantes (outliers) do conjunto de dados. "
   ]
  },
  {
   "cell_type": "markdown",
   "metadata": {},
   "source": [
    "<center>\n",
    "<img src=\"https://miro.medium.com/max/9000/1*2c21SkzJMf3frPXPAR_gZA.png\">\n",
    "<center/>"
   ]
  },
  {
   "cell_type": "code",
   "execution_count": 41,
   "metadata": {},
   "outputs": [
    {
     "name": "stderr",
     "output_type": "stream",
     "text": [
      "/home/lucas/anaconda3/lib/python3.8/site-packages/seaborn/_decorators.py:36: FutureWarning: Pass the following variable as a keyword arg: x. From version 0.12, the only valid positional argument will be `data`, and passing other arguments without an explicit keyword will result in an error or misinterpretation.\n",
      "  warnings.warn(\n"
     ]
    },
    {
     "data": {
      "image/png": "[encoded data removed]",
      "text/plain": [
       "<Figure size 842.4x595.44 with 1 Axes>"
      ]
     },
     "metadata": {},
     "output_type": "display_data"
    }
   ],
   "source": [
    "g = sns.boxplot(df_clean[\"price\"])"
   ]
  },
  {
   "cell_type": "markdown",
   "metadata": {},
   "source": [
    "![](https://user-images.githubusercontent.com/7065401/52071927-c1cd7100-2562-11e9-908a-dde91ba14e59.png)"
   ]
  },
  {
   "cell_type": "markdown",
   "metadata": {},
   "source": [
    "## **Medidas de Comparação**\n",
    "\n",
    "   - São medidas que fornecem informações que permitem comparar duas ou mais variáveis a partir de medidas diretas ou indiretas de ponderação e/ou de relação. São medidas de comparação o coeficiente de variação, o escore padronizado e a correlação.\n",
    "\n",
    "<hr>"
   ]
  },
  {
   "cell_type": "markdown",
   "metadata": {},
   "source": [
    "### Covariância\n",
    "   - Como as variáveis estão variando em conjunto;\n",
    "   - Afetada pelas unidades de medida;\n",
    "   - Mede a intensidade da relação linear entre as variáveis;\n",
    "   - A magnitude do valor depende das unidades das variáveis;"
   ]
  },
  {
   "cell_type": "markdown",
   "metadata": {},
   "source": [
    "- Covariância Populacional:<br>\n",
    "<img src=\"https://iceb.ssdi.di.fct.unl.pt/1314/b/images/covariancia.png\">\n",
    "<br><br>\n",
    "- Covariância Amostral:<br>\n",
    "<img src=\"https://lh3.googleusercontent.com/proxy/qhi7VMXFcWghsQlZImEeGKhQt47GAzEeTdLjqyQXRwftPWVhv-zYo9Ir1w6KIX7kqjjGNlRpxwuYfLsuDdCSOnL22ba-cdgh1XoWAB9OgcU_WBJQu5J5\" >\n",
    "<br><br>\n",
    "- Se quanto maior X, maior Y, então a covariância é positiva;\n",
    "- Se quanto maior X, menor Y, então a covariância é negativa;\n"
   ]
  },
  {
   "cell_type": "markdown",
   "metadata": {},
   "source": [
    "- Modo Pythônico:  "
   ]
  },
  {
   "cell_type": "code",
   "execution_count": 42,
   "metadata": {},
   "outputs": [
    {
     "data": {
      "text/html": [
       "<div>\n",
       "<style scoped>\n",
       "    .dataframe tbody tr th:only-of-type {\n",
       "        vertical-align: middle;\n",
       "    }\n",
       "\n",
       "    .dataframe tbody tr th {\n",
       "        vertical-align: top;\n",
       "    }\n",
       "\n",
       "    .dataframe thead th {\n",
       "        text-align: right;\n",
       "    }\n",
       "</style>\n",
       "<table border=\"1\" class=\"dataframe\">\n",
       "  <thead>\n",
       "    <tr style=\"text-align: right;\">\n",
       "      <th></th>\n",
       "      <th>calculated_host_listings_count</th>\n",
       "      <th>availability_365</th>\n",
       "    </tr>\n",
       "  </thead>\n",
       "  <tbody>\n",
       "    <tr>\n",
       "      <th>calculated_host_listings_count</th>\n",
       "      <td>87.361776</td>\n",
       "      <td>55.703629</td>\n",
       "    </tr>\n",
       "    <tr>\n",
       "      <th>availability_365</th>\n",
       "      <td>55.703629</td>\n",
       "      <td>19183.659104</td>\n",
       "    </tr>\n",
       "  </tbody>\n",
       "</table>\n",
       "</div>"
      ],
      "text/plain": [
       "                                calculated_host_listings_count  \\\n",
       "calculated_host_listings_count                       87.361776   \n",
       "availability_365                                     55.703629   \n",
       "\n",
       "                                availability_365  \n",
       "calculated_host_listings_count         55.703629  \n",
       "availability_365                    19183.659104  "
      ]
     },
     "execution_count": 42,
     "metadata": {},
     "output_type": "execute_result"
    }
   ],
   "source": [
    "df_clean[[\"calculated_host_listings_count\", \"availability_365\"]].cov()"
   ]
  },
  {
   "cell_type": "markdown",
   "metadata": {},
   "source": [
    "<hr>"
   ]
  },
  {
   "cell_type": "markdown",
   "metadata": {},
   "source": [
    "### Correlação\n",
    "   - Medida para a variabilidade conjunta entre duas variáveis;\n",
    "   - Princial vantagem: Relativa e padronizada - varia entre [-1, 1]\n",
    "   - Pode ser que as variáveis tenham relações (quadráticas, etc), porém essa correlação só irá identificar correlação linear;\n",
    "   - Cuidado: Correlação linear e covariância não implicam em causalidade;\n",
    "   - Gráficos para visualizar a correlação entre as variáveis: Dispersão e Mapa de Calor;"
   ]
  },
  {
   "cell_type": "markdown",
   "metadata": {},
   "source": [
    "<center>\n",
    "Fórmula da Correlação (Pearson):\n",
    "<br><br>\n",
    "    \n",
    "<img src=\"data:image/png;base64,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\">\n",
    "<center/>"
   ]
  },
  {
   "cell_type": "markdown",
   "metadata": {},
   "source": [
    "- Intensidade:\n",
    "    - **Correlação Forte:** corr > 0.7\n",
    "    - **Correlação Moderada:** 0.4 <= corr <= 0.7\n",
    "    - **Correlação Fraca:** corr < 0.4\n"
   ]
  },
  {
   "cell_type": "markdown",
   "metadata": {},
   "source": [
    "<center>\n",
    "<img width=\"80%\" src=\"https://d33wubrfki0l68.cloudfront.net/e3b158e0207e1a80248bc0d7283f6eee638d5e72/4f6f0/blog/correlacao_files/figure-html/unnamed-chunk-4-1.png\">\n",
    "<center/>"
   ]
  },
  {
   "cell_type": "markdown",
   "metadata": {},
   "source": [
    "- Outras Correlações:\n",
    "   - Correlação de Spearman (Apesar de não ser afetada por outliers, possui limitações);\n",
    "   - Correlação de Kendall;"
   ]
  },
  {
   "cell_type": "markdown",
   "metadata": {},
   "source": [
    "- Modo Pythônico: "
   ]
  },
  {
   "cell_type": "markdown",
   "metadata": {},
   "source": [
    "OBS: O Pandas utiliza a correlação de Pearson para calcular"
   ]
  },
  {
   "cell_type": "code",
   "execution_count": 43,
   "metadata": {},
   "outputs": [
    {
     "data": {
      "text/html": [
       "<div>\n",
       "<style scoped>\n",
       "    .dataframe tbody tr th:only-of-type {\n",
       "        vertical-align: middle;\n",
       "    }\n",
       "\n",
       "    .dataframe tbody tr th {\n",
       "        vertical-align: top;\n",
       "    }\n",
       "\n",
       "    .dataframe thead th {\n",
       "        text-align: right;\n",
       "    }\n",
       "</style>\n",
       "<table border=\"1\" class=\"dataframe\">\n",
       "  <thead>\n",
       "    <tr style=\"text-align: right;\">\n",
       "      <th></th>\n",
       "      <th>calculated_host_listings_count</th>\n",
       "      <th>availability_365</th>\n",
       "    </tr>\n",
       "  </thead>\n",
       "  <tbody>\n",
       "    <tr>\n",
       "      <th>calculated_host_listings_count</th>\n",
       "      <td>1.000000</td>\n",
       "      <td>0.043029</td>\n",
       "    </tr>\n",
       "    <tr>\n",
       "      <th>availability_365</th>\n",
       "      <td>0.043029</td>\n",
       "      <td>1.000000</td>\n",
       "    </tr>\n",
       "  </tbody>\n",
       "</table>\n",
       "</div>"
      ],
      "text/plain": [
       "                                calculated_host_listings_count  \\\n",
       "calculated_host_listings_count                        1.000000   \n",
       "availability_365                                      0.043029   \n",
       "\n",
       "                                availability_365  \n",
       "calculated_host_listings_count          0.043029  \n",
       "availability_365                        1.000000  "
      ]
     },
     "execution_count": 43,
     "metadata": {},
     "output_type": "execute_result"
    }
   ],
   "source": [
    "df_clean[[\"calculated_host_listings_count\", \"availability_365\"]].corr()"
   ]
  },
  {
   "cell_type": "code",
   "execution_count": 44,
   "metadata": {},
   "outputs": [
    {
     "data": {
      "text/plain": [
       "0.04302858215853843"
      ]
     },
     "execution_count": 44,
     "metadata": {},
     "output_type": "execute_result"
    }
   ],
   "source": [
    "from scipy.stats import pearsonr\n",
    "corr, p_value = pearsonr(df_clean[\"calculated_host_listings_count\"], df_clean[\"availability_365\"])\n",
    "corr"
   ]
  },
  {
   "cell_type": "markdown",
   "metadata": {},
   "source": [
    "Outras Correlações em Python:"
   ]
  },
  {
   "cell_type": "code",
   "execution_count": 45,
   "metadata": {},
   "outputs": [
    {
     "data": {
      "text/plain": [
       "SpearmanrResult(correlation=0.04774504172008268, pvalue=1.93159023290978e-09)"
      ]
     },
     "execution_count": 45,
     "metadata": {},
     "output_type": "execute_result"
    }
   ],
   "source": [
    "from scipy.stats import spearmanr\n",
    "spearmanr(df_clean[\"calculated_host_listings_count\"], df_clean[\"availability_365\"])"
   ]
  },
  {
   "cell_type": "code",
   "execution_count": 46,
   "metadata": {},
   "outputs": [
    {
     "data": {
      "text/plain": [
       "KendalltauResult(correlation=0.03565249199735385, pvalue=2.3450611996399363e-09)"
      ]
     },
     "execution_count": 46,
     "metadata": {},
     "output_type": "execute_result"
    }
   ],
   "source": [
    "from scipy.stats import kendalltau\n",
    "kendalltau(df_clean[\"calculated_host_listings_count\"], df_clean[\"availability_365\"])"
   ]
  },
  {
   "cell_type": "markdown",
   "metadata": {},
   "source": [
    "### **Visualizando correlação com mapa de calor**"
   ]
  },
  {
   "cell_type": "code",
   "execution_count": 47,
   "metadata": {},
   "outputs": [
    {
     "data": {
      "image/png": "[encoded data removed]",
      "text/plain": [
       "<Figure size 842.4x595.44 with 2 Axes>"
      ]
     },
     "metadata": {},
     "output_type": "display_data"
    }
   ],
   "source": [
    "ax = sns.heatmap(df_clean.corr(), annot=True, cmap=\"YlGnBu\")"
   ]
  },
  {
   "cell_type": "markdown",
   "metadata": {},
   "source": [
    "<hr>"
   ]
  },
  {
   "cell_type": "markdown",
   "metadata": {},
   "source": [
    "### Correlação vs Causalidade"
   ]
  },
  {
   "cell_type": "markdown",
   "metadata": {},
   "source": [
    "Na grande maioria dos casos, uma correlação forte entre duas variáveis não implica que há uma relação de causa-efeito entre elas. Por exemplo, se você achou uma correlação positiva e forte entre X e Y, isso não lhe permitirá concluir que, se X aumentar, então Y também crescerá. Há potencialmente outro fator Z que puxa tanto X quanto Y. Daí você encontra uma correlação positiva nos dados, mas não necessariamente pelo efeito de X em Y, mas possivelmente pelo efeito de Z nas duas variáveis.\n",
    "\n",
    "Nossas pensamentos nos levam a concluir erroneamente que fatos correlacionados possuem relação de causalidade mesmo quando não há uma evidência para isso, o que acaba por empobrecer muitos debates, tornando-os rasos. Um outro exemplo, bem desconexo, seria: alguém tenta te convencer que o número de pessoas afogadas em piscinas é causa das aparições do Nicolas Cage em filmes (imagem abaixo). Você deveria acreditar? Saiba que esses dois eventos estiveram correlacionados (estatísticamente falando) durante certo período, mas obviamente não possuem relação de causa. Fatos como esse, por exemplo, que não apresentam nenhuma relação, muito menos de causa direta ou indireta, acontecem por “força do acaso” e são denominados correlações espúrias e, apesar de óbvios, também ilustram muito bem o argumento de que Correlação não implica em Causalidade."
   ]
  },
  {
   "cell_type": "markdown",
   "metadata": {},
   "source": [
    "<center>\n",
    "<img src=\"https://miro.medium.com/max/653/1*6xheQbkHn38R6zbzTUq4wA.png\">\n",
    "<center />"
   ]
  },
  {
   "cell_type": "markdown",
   "metadata": {},
   "source": [
    "Para mais exemplos de correlações que não indicam causalidade, acesse:<br>\n",
    "http://www.tylervigen.com/spurious-correlations"
   ]
  },
  {
   "cell_type": "markdown",
   "metadata": {},
   "source": [
    "<hr>"
   ]
  },
  {
   "cell_type": "markdown",
   "metadata": {},
   "source": [
    "### Escore Padrão (Escore-Z)\n",
    "   - Na estatística, um escore-z (ou escore padrão) de uma observação é o número de desvios padrão acima ou abaixo da média da população; \n",
    "   - Para calcular um escore z, é necessário saber a média da população e o desvio padrão da população;"
   ]
  },
  {
   "cell_type": "markdown",
   "metadata": {},
   "source": [
    "<center>\n",
    "<img width=\"60%\" src=\"https://i.imgur.com/GHjLlPK.png\">\n",
    "<center>"
   ]
  },
  {
   "cell_type": "markdown",
   "metadata": {},
   "source": [
    "- Modo Pythônico:"
   ]
  },
  {
   "cell_type": "code",
   "execution_count": 48,
   "metadata": {},
   "outputs": [
    {
     "data": {
      "text/plain": [
       "array([-0.13305233,  0.21748485,  2.72669732, ..., -0.44398078,\n",
       "       -0.2855459 , -0.56280695])"
      ]
     },
     "execution_count": 48,
     "metadata": {},
     "output_type": "execute_result"
    }
   ],
   "source": [
    "from scipy.stats import zscore\n",
    "#populacao\n",
    "zscore(df_clean[\"price\"], ddof=0)"
   ]
  },
  {
   "cell_type": "code",
   "execution_count": 49,
   "metadata": {},
   "outputs": [
    {
     "data": {
      "text/plain": [
       "array([-0.13304811,  0.21747797,  2.726611  , ..., -0.44396673,\n",
       "       -0.28553686, -0.56278913])"
      ]
     },
     "execution_count": 49,
     "metadata": {},
     "output_type": "execute_result"
    }
   ],
   "source": [
    "#amostra\n",
    "zscore(df_clean[\"price\"], ddof=1)"
   ]
  },
  {
   "cell_type": "markdown",
   "metadata": {},
   "source": [
    "![](https://user-images.githubusercontent.com/7065401/52071927-c1cd7100-2562-11e9-908a-dde91ba14e59.png)"
   ]
  }
 ],
 "metadata": {
  "kernelspec": {
   "display_name": "Python 3",
   "language": "python",
   "name": "python3"
  },
  "language_info": {
   "codemirror_mode": {
    "name": "ipython",
    "version": 3
   },
   "file_extension": ".py",
   "mimetype": "text/x-python",
   "name": "python",
   "nbconvert_exporter": "python",
   "pygments_lexer": "ipython3",
   "version": "3.8.5"
  }
 },
 "nbformat": 4,
 "nbformat_minor": 4
}
